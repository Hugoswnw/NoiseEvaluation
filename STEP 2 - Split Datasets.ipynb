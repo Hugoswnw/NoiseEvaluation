{
 "cells": [
  {
   "cell_type": "code",
   "execution_count": null,
   "metadata": {},
   "outputs": [],
   "source": [
    "from Benchmark.protocol import *"
   ]
  },
  {
   "cell_type": "code",
   "execution_count": null,
   "metadata": {},
   "outputs": [],
   "source": [
    "\n",
    "# K : number of folds in KFolds\n",
    "K = 5\n",
    "# R : number repetition of KFolds\n",
    "R = 5\n",
    "# RHO : levels of noised applied on training datasets (symmetrical noise, same noise applied on all classes)\n",
    "# function of the minority class : rho*balance (0.0 : imbalanced, ]0.0, 1.0] : noise<=balance, ]1.0, 2.0] : noise > balance)\n",
    "RHO = [0.0, 0.05, 0.1, 0.20, 0.25, 0.33, 0.5, 0.66, 0.75, 0.9, 1.0, 1.25]\n",
    "\n",
    "# functions used to preprocess split datasets\n",
    "PREPROCESSING = {\"regular\" : lambda x : x, \"onehot\" : lambda x : pd.get_dummies(x)}\n",
    "\n",
    "p = Protocol(K, R, RHO, PREPROCESSING)"
   ]
  },
  {
   "cell_type": "code",
   "execution_count": null,
   "metadata": {},
   "outputs": [],
   "source": [
    "for name, caracs in p.DATASETS.sort_values(\"cells\", ascending=True)[:].iterrows():\n",
    "    p.splitDataset(name, caracs[\"minority_balance_percent\"], n_jobs=10)\n",
    "    pass"
   ]
  },
  {
   "cell_type": "code",
   "execution_count": null,
   "metadata": {},
   "outputs": [],
   "source": []
  }
 ],
 "metadata": {
  "kernelspec": {
   "display_name": "Python 3",
   "language": "python",
   "name": "python3"
  },
  "language_info": {
   "codemirror_mode": {
    "name": "ipython",
    "version": 3
   },
   "file_extension": ".py",
   "mimetype": "text/x-python",
   "name": "python",
   "nbconvert_exporter": "python",
   "pygments_lexer": "ipython3",
   "version": "3.7.6"
  }
 },
 "nbformat": 4,
 "nbformat_minor": 4
}
