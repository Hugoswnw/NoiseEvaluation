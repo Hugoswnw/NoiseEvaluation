{
 "cells": [
  {
   "cell_type": "code",
   "execution_count": null,
   "metadata": {},
   "outputs": [],
   "source": [
    "from Benchmark.protocol import *"
   ]
  },
  {
   "cell_type": "code",
   "execution_count": null,
   "metadata": {},
   "outputs": [],
   "source": [
    "\n",
    "# K : number of folds in KFolds\n",
    "K = 5\n",
    "# R : number repetition of KFolds\n",
    "R = 5\n",
    "# RHO : levels of noised applied on training datasets (symmetrical noise, same noise applied on all classes)\n",
    "# function of the minority class : rho*balance (0.0 : imbalanced, ]0.0, 1.0] : noise<=balance, ]1.0, 2.0] : noise > balance)\n",
    "RHO = [0.0, 0.05, 0.1, 0.20, 0.25, 0.33, 0.5, 0.66, 0.75, 0.9, 1.0, 1.25]\n",
    "\n",
    "\n",
    "# functions used to preprocess split datasets\n",
    "PREPROCESSING = {\"regular\" : lambda x : x, \"onehot\" : lambda x : pd.get_dummies(x)}\n",
    "\n",
    "p = Protocol(K, R, RHO, PREPROCESSING)"
   ]
  },
  {
   "cell_type": "code",
   "execution_count": null,
   "metadata": {},
   "outputs": [],
   "source": [
    "p.splitDataset(\"breastcancer_full\", 34.4, n_jobs=10)"
   ]
  },
  {
   "cell_type": "code",
   "execution_count": null,
   "metadata": {},
   "outputs": [],
   "source": [
    "# FULL TESTS\n",
    "n_trees = 100\n",
    "n_jobs = 8\n",
    "xgbparams = {\"nthread\": 1, \"eta\" : 0.3, \"min_child_weight\" : 0, \"lambda\": 1, \"tree_method\" : \"auto\"}\n",
    "toZeroOne = lambda ys : (ys.copy()+1.0)/2"
   ]
  },
  {
   "cell_type": "code",
   "execution_count": null,
   "metadata": {
    "scrolled": true
   },
   "outputs": [],
   "source": [
    "skm = {\n",
    "     \"regular\": {\n",
    "        \"khiops\" : sklearnFit(PyKhiopsClassifier, evaluateProbaKhiops),\n",
    "        \"khiopsRF\" : sklearnFit(PyKhiopsClassifier, evaluateProbaKhiops, n_trees=n_trees)\n",
    "    },\n",
    "    \"onehot\" : {\n",
    "        \"skRF\" : sklearnFit(RandomForestClassifier, evaluateProba,\n",
    "            {\"n_estimators\": n_trees, \"n_jobs\": 1}),\n",
    "        \"logisticRegression\" : sklearnFit(LogisticRegression, evaluateScore,\n",
    "            {\"solver\" : \"lbfgs\", \"max_iter\" : 20000, \"n_jobs\": 1}),\n",
    "        \"linearSVC\" : sklearnFit(LinearSVC, evaluateScore,\n",
    "            {\"max_iter\" : 20000, \"dual\" : False}),\n",
    "        \"XGB_SQUERR\" : xgbFit('reg:squarederror', n_trees, params=xgbparams),\n",
    "        \"XGB_HINGE\" : xgbFit('binary:hinge', n_trees, params=xgbparams, prepy = toZeroOne),\n",
    "        \"XGB_UNHINGED\" : xgbFit(buildUnhinged(), n_trees, params=xgbparams, prepy = toZeroOne),\n",
    "        \"XGB_RAMP\" : xgbFit(buildModifiedRamp(ep = 1e-16, r = 0.5), n_trees, params=xgbparams, prepy = toZeroOne)\n",
    "    }\n",
    "}\n",
    "\n",
    "# Ordered by ascending cells amount\n",
    "for i in range(p.K*p.R):\n",
    "    for f in p.DATASETS.sort_values(\"cells\", ascending=True)[:].T:\n",
    "        p.runModels(f, skm, i, n_jobs=n_jobs)"
   ]
  },
  {
   "cell_type": "code",
   "execution_count": null,
   "metadata": {},
   "outputs": [],
   "source": [
    "wekam = {\n",
    "    \"regular\": {\n",
    "        \"wekaRF\" : wekaFit(params={\"n_estimators\" : n_trees, \"n_jobs\" : n_jobs})\n",
    "    }\n",
    "}\n",
    "\n",
    "# Ordered by ascending cells amount\n",
    "for i in range(p.K*p.R):\n",
    "    for f in p.DATASETS.sort_values(\"cells\", ascending=True)[:].T:\n",
    "        #weka runs cannot be parralelized. we can only count on the weka parralel implementation of RF\n",
    "        p.runModels(f, wekam, i, n_jobs=1)\n"
   ]
  },
  {
   "cell_type": "code",
   "execution_count": null,
   "metadata": {},
   "outputs": [],
   "source": []
  }
 ],
 "metadata": {
  "kernelspec": {
   "display_name": "Python 3",
   "language": "python",
   "name": "python3"
  },
  "language_info": {
   "codemirror_mode": {
    "name": "ipython",
    "version": 3
   },
   "file_extension": ".py",
   "mimetype": "text/x-python",
   "name": "python",
   "nbconvert_exporter": "python",
   "pygments_lexer": "ipython3",
   "version": "3.7.6"
  }
 },
 "nbformat": 4,
 "nbformat_minor": 4
}
